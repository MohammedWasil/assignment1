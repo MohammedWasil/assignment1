{
 "cells": [
  {
   "cell_type": "code",
   "execution_count": null,
   "id": "3f848a8c-1fce-401a-9c19-3427fb88771c",
   "metadata": {},
   "outputs": [],
   "source": [
    "NAME = MOHAMMED WASIL,  COURSE = DATA SCIENCE MASTER ,  ASSIGNMENNT: 1 , DATE: 29/01/2023\n"
   ]
  },
  {
   "cell_type": "code",
   "execution_count": null,
   "id": "122332cf-797d-48b6-8432-9543eb60047a",
   "metadata": {},
   "outputs": [],
   "source": [
    "Question: 1\n",
    "Answer: Guido Van Rossum."
   ]
  },
  {
   "cell_type": "code",
   "execution_count": null,
   "id": "54883356-1716-408e-9b8e-d0cedc46ba9a",
   "metadata": {},
   "outputs": [],
   "source": [
    "Question: 2\n",
    "Answer: Python is an interpreted language programming language, supportingobject-oriented,structured, and\n",
    "        functional programming."
   ]
  },
  {
   "cell_type": "code",
   "execution_count": null,
   "id": "514b0fc5-e314-433f-8e69-0dacdb66a302",
   "metadata": {},
   "outputs": [],
   "source": [
    "Question: 3\n",
    "Answer: Yes, Python is a case-sensitive language, i.e., it treats uppercase and lowercase characters differently. \n",
    "        This applies to identifiers too. You must avoid using the same name with different cases while naming identifiers.\n"
   ]
  },
  {
   "cell_type": "code",
   "execution_count": null,
   "id": "b915b05f-cdf6-4b16-9511-9b6bed50685a",
   "metadata": {},
   "outputs": [],
   "source": [
    "Question: 4\n",
    "Answer: The  correct extension of the Python file is .py."
   ]
  },
  {
   "cell_type": "code",
   "execution_count": null,
   "id": "d4743ed8-00f7-4cec-8bb1-f562c8a0f54c",
   "metadata": {},
   "outputs": [],
   "source": [
    "Question: 5\n",
    "Answer: Python is an interpreted language, which means the source code of a Python program is converted into bytecode that \n",
    "        is then executed by the Python virtual machine. Python is different from major compiled languages, such as C  and\n",
    "        C + +, as Python code is not required to be built and linked like code for these languages.\n"
   ]
  },
  {
   "cell_type": "code",
   "execution_count": null,
   "id": "ae45f727-50f1-4be9-b758-df70fcee1fb9",
   "metadata": {},
   "outputs": [],
   "source": [
    "Question: 6\n",
    "Answer: The following  are blocks: a module, a function body, and a class definition. Each command typed interactively \n",
    "        is a block. A script file is a code block."
   ]
  },
  {
   "cell_type": "code",
   "execution_count": null,
   "id": "17c9c8d0-8e99-4de9-ae8d-fd56a59a0ec0",
   "metadata": {},
   "outputs": [],
   "source": [
    "Question: 7\n",
    "Answer: We can write a single line comment by adding a single # character before any statement or line of code."
   ]
  },
  {
   "cell_type": "code",
   "execution_count": null,
   "id": "9c6e75a3-5662-4858-b41a-fa33062af1da",
   "metadata": {},
   "outputs": [],
   "source": [
    "Question: 8\n",
    "Answer: The function sys.version  can help us to find the version of python that we are currently working on.\n",
    "        In windows operating system  we can use the command python--version to check the python version."
   ]
  },
  {
   "cell_type": "code",
   "execution_count": null,
   "id": "680ab744-0286-4bfa-98e8-e29a4d49fbdc",
   "metadata": {},
   "outputs": [],
   "source": [
    "Question: 9\n",
    "Answer: Lambda"
   ]
  },
  {
   "cell_type": "code",
   "execution_count": null,
   "id": "6320b4e2-0a6e-45fe-9cb9-5c343e6a972d",
   "metadata": {},
   "outputs": [],
   "source": [
    "Question: 10\n",
    "Answer: Preferred installer Program."
   ]
  },
  {
   "cell_type": "code",
   "execution_count": null,
   "id": "4cd71c80-925f-4659-82e0-c7da4e308d75",
   "metadata": {},
   "outputs": [],
   "source": [
    "Question: 11\n",
    "Answer: Few built-in functions in python are:-\n",
    "1.  input()\n",
    "2.\trange()\n",
    "3.\tlist()\n",
    "4.\tlen()\n",
    "5.\tmap()\n",
    "6.\tmin()\n",
    "7.\tmax()\n",
    "8.\tfloat()\n",
    "9.\tfilter()\n",
    "10.\tenumerate()\n",
    "11.\tdict()\n",
    "12.\tbool()\n",
    "\n"
   ]
  },
  {
   "cell_type": "code",
   "execution_count": null,
   "id": "6cd9d60d-da19-4839-9fc9-b3b6d8b2fb6f",
   "metadata": {},
   "outputs": [],
   "source": [
    "Question: 12\n",
    "Answer: An identifier can have a maximum length of 79 characters."
   ]
  },
  {
   "cell_type": "code",
   "execution_count": null,
   "id": "b60a9612-7011-4eb8-a4f7-6aa437e21ad5",
   "metadata": {},
   "outputs": [],
   "source": [
    "Question: 13\n",
    "Answer: Benefits of using python are:-\n",
    " 1.Easy to learn and use.\n",
    " 2.Hundred of libraries and framework.\n",
    " 3.Interpreted language.\n",
    " 4.Versatility, Efficiency, Reliability and Speed.\n",
    " 5.User friendly data structures.\n",
    " .High level language."
   ]
  },
  {
   "cell_type": "code",
   "execution_count": null,
   "id": "4f8ac5b3-ea8f-4e80-a878-8ae1205846db",
   "metadata": {},
   "outputs": [],
   "source": [
    "Question:14\n",
    "Answer: Memory management in Python involves a private heap containing all Python objects and data structures. \n",
    "        The management of this private heap is ensured internally by the Python memory manager.\n"
   ]
  },
  {
   "cell_type": "code",
   "execution_count": null,
   "id": "64177368-b27b-4327-825a-e3e07996f7ce",
   "metadata": {},
   "outputs": [],
   "source": [
    "Question: 15\n",
    "Answer: Open a browser to the Python website and download the Windows installer. Two double click on the downloaded file and\n",
    "        install Python for all users, and ensure that Python is added to your path. Click on Install now to begin.\n",
    "The complete path of python.exe can be added by:\n",
    "1.\tRight-clicking This PC and going to Properties.\n",
    "2.\tClicking on the Advanced system settings in the menu on the left.\n",
    "3.\tClicking on the Environment Variables button on the bottom right.\n",
    "4.\tIn the System variables section, selecting the Path variable and clicking on Edit. The next screen will show all the\n",
    "    directories that are currently a part of the path variable.\n",
    "5.\tClicking on New and entering Python’s install directory.\n"
   ]
  },
  {
   "cell_type": "code",
   "execution_count": null,
   "id": "a5466578-5860-4d28-bde4-990139dd66e7",
   "metadata": {},
   "outputs": [],
   "source": [
    "Question: 16\n",
    "Answer: Indentation refers to the spaces at beginning of a code line. Where in other programming languages the indentation\n",
    "        in code is for readability only, the indentation in Python is very important. Python uses indentation to indicate a \n",
    "        block of code."
   ]
  }
 ],
 "metadata": {
  "kernelspec": {
   "display_name": "Python 3 (ipykernel)",
   "language": "python",
   "name": "python3"
  },
  "language_info": {
   "codemirror_mode": {
    "name": "ipython",
    "version": 3
   },
   "file_extension": ".py",
   "mimetype": "text/x-python",
   "name": "python",
   "nbconvert_exporter": "python",
   "pygments_lexer": "ipython3",
   "version": "3.10.8"
  }
 },
 "nbformat": 4,
 "nbformat_minor": 5
}
